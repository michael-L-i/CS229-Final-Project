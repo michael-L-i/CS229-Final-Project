{
  "nbformat": 4,
  "nbformat_minor": 0,
  "metadata": {
    "colab": {
      "provenance": [],
      "machine_shape": "hm",
      "gpuType": "A100",
      "authorship_tag": "ABX9TyNxhaL38878yYO5RfHBgtZa",
      "include_colab_link": true
    },
    "kernelspec": {
      "name": "python3",
      "display_name": "Python 3"
    },
    "language_info": {
      "name": "python"
    },
    "accelerator": "GPU"
  },
  "cells": [
    {
      "cell_type": "markdown",
      "metadata": {
        "id": "view-in-github",
        "colab_type": "text"
      },
      "source": [
        "<a href=\"https://colab.research.google.com/github/michael-L-i/CS229-Final-Project/blob/main/Standard_ResNet.ipynb\" target=\"_parent\"><img src=\"https://colab.research.google.com/assets/colab-badge.svg\" alt=\"Open In Colab\"/></a>"
      ]
    },
    {
      "cell_type": "code",
      "execution_count": 19,
      "metadata": {
        "colab": {
          "base_uri": "https://localhost:8080/"
        },
        "id": "x6guorDebdnh",
        "outputId": "b390db59-0b9c-4a54-b493-9ba6c7f1d409"
      },
      "outputs": [
        {
          "output_type": "stream",
          "name": "stdout",
          "text": [
            "Drive already mounted at /content/drive; to attempt to forcibly remount, call drive.mount(\"/content/drive\", force_remount=True).\n"
          ]
        }
      ],
      "source": [
        "from google.colab import drive\n",
        "drive.mount('/content/drive')\n",
        "\n",
        "import copy\n",
        "import torch\n",
        "import torch.nn as nn\n",
        "import torch.optim as optim\n",
        "import torchvision.transforms as transforms\n",
        "import torchvision.models as models\n",
        "from torch.utils.data import DataLoader, Dataset, random_split\n",
        "from PIL import Image\n",
        "import os\n",
        "from tqdm import tqdm\n",
        "import logging\n",
        "import matplotlib.pyplot as plt\n",
        "import pandas as pd\n",
        "import sys\n",
        "import random\n",
        "import numpy as np\n",
        "import cv2\n",
        "from sklearn.metrics import confusion_matrix, ConfusionMatrixDisplay\n",
        "import matplotlib.pyplot as plt\n",
        "import numpy as np"
      ]
    },
    {
      "cell_type": "code",
      "source": [
        "# ========================\n",
        "# SET RANDOMNESS\n",
        "# ========================\n",
        "\n",
        "seed = 42\n",
        "random.seed(seed)\n",
        "np.random.seed(seed)\n",
        "torch.manual_seed(seed)\n",
        "if torch.cuda.is_available():\n",
        "    torch.cuda.manual_seed(seed)\n",
        "    torch.cuda.manual_seed_all(seed)\n",
        "\n",
        "# ========================\n",
        "# PARAMETERS AND LOGGING\n",
        "# ========================\n",
        "\n",
        "# Set up logging to both file and console\n",
        "handler = logging.StreamHandler(sys.stdout)\n",
        "handler.flush = sys.stdout.flush\n",
        "logging.basicConfig(\n",
        "    level=logging.INFO,\n",
        "    format='%(asctime)s - %(levelname)s - %(message)s',\n",
        "    handlers=[\n",
        "        logging.FileHandler('training_log.log'),\n",
        "        handler\n",
        "    ]\n",
        ")\n",
        "\n",
        "# Base configuration dictionary for easy tuning\n",
        "base_config = {\n",
        "    \"resnet_version\": 50,  # Options: 18, 34, 50, 101, 152\n",
        "    \"batch_size\": 32,\n",
        "    \"learning_rate\": 0.00005,\n",
        "    \"weight_decay\": 1e-4,\n",
        "    \"num_epochs\": 5,\n",
        "    \"momentum\": 0.9,\n",
        "    \"use_scheduler\": True,\n",
        "}\n",
        "\n",
        "# define num_workers for speedup\n",
        "n_workers = 15\n"
      ],
      "metadata": {
        "id": "8Vz_LZPflOZy"
      },
      "execution_count": 9,
      "outputs": []
    },
    {
      "cell_type": "code",
      "source": [
        "# ========================\n",
        "# DATASET DEFINITIONS\n",
        "# ========================\n",
        "\n",
        "class RecaptureDataset(Dataset):\n",
        "    def __init__(self, root_dir, transform=None, is_test=False):\n",
        "        \"\"\"\n",
        "        For training/validation/testing, expects two subfolders:\n",
        "        'SingleCaptureImages' (label 0) and 'RecapturedImages' (label 1).\n",
        "        \"\"\"\n",
        "        self.transform = transform\n",
        "        self.is_test = is_test\n",
        "\n",
        "        self.single_capture_path = os.path.join(root_dir, 'SingleCaptureImages')\n",
        "        self.recapture_path = os.path.join(root_dir, 'RecapturedImages')\n",
        "        self.single_capture_images = []\n",
        "        self.recapture_images = []\n",
        "        # Get images from SingleCaptureImages\n",
        "        for root, _, files in os.walk(self.single_capture_path):\n",
        "            for file in files:\n",
        "                if file.lower().endswith(('.png', '.jpg', '.jpeg')):\n",
        "                    self.single_capture_images.append(os.path.join(root, file))\n",
        "        # Get images from RecapturedImages\n",
        "        for root, _, files in os.walk(self.recapture_path):\n",
        "            for file in files:\n",
        "                if file.lower().endswith(('.png', '.jpg', '.jpeg')):\n",
        "                    self.recapture_images.append(os.path.join(root, file))\n",
        "        self.all_images = self.single_capture_images + self.recapture_images\n",
        "        self.labels = ([0] * len(self.single_capture_images)) + ([1] * len(self.recapture_images))\n",
        "\n",
        "    def __len__(self):\n",
        "        return len(self.all_images)\n",
        "\n",
        "    def __getitem__(self, idx):\n",
        "        img_path = self.all_images[idx]\n",
        "        image = Image.open(img_path).convert('RGB')\n",
        "        label = self.labels[idx]\n",
        "        if self.transform:\n",
        "            image = self.transform(image)\n",
        "        return image, label\n",
        "\n",
        "# ========================\n",
        "# TRANSFORMATIONS\n",
        "# ========================\n",
        "\n",
        "# Transformations for training/validation/testing\n",
        "train_transform = transforms.Compose([\n",
        "    transforms.Resize((224, 224)),\n",
        "    transforms.ToTensor(),\n",
        "    transforms.Normalize(mean=[0.485, 0.456, 0.406], std=[0.229, 0.224, 0.225]),\n",
        "])\n",
        "\n",
        "# ========================\n",
        "# DATASET & DATALOADERS\n",
        "# ========================\n",
        "\n",
        "# root directory\n",
        "root_dir = \"/content/drive/MyDrive/Colab Notebooks/ROSE Dataset/dataset\"\n",
        "\n",
        "# create the full dataset\n",
        "full_dataset = RecaptureDataset(root_dir=root_dir, transform=train_transform, is_test=False)\n",
        "dataset_size = len(full_dataset)\n",
        "train_size = int(0.8 * dataset_size)\n",
        "val_size = int(0.1 * dataset_size)\n",
        "test_size = dataset_size - train_size - val_size\n",
        "logging.info(f\"Total images: {dataset_size}, Training: {train_size}, Validation: {val_size}, Testing: {test_size}\")\n",
        "\n",
        "# seed so that we can reproduce\n",
        "generator = torch.Generator().manual_seed(seed)\n",
        "train_dataset, val_dataset, test_dataset = random_split(full_dataset, [train_size, val_size, test_size], generator=generator)\n",
        "\n",
        "def get_dataloaders(config, train_dataset, val_dataset, test_dataset):\n",
        "    train_loader = DataLoader(train_dataset, batch_size=config[\"batch_size\"], shuffle=True,\n",
        "                              num_workers=n_workers, pin_memory=True, persistent_workers=True,\n",
        "                              prefetch_factor=3)\n",
        "    val_loader = DataLoader(val_dataset, batch_size=config[\"batch_size\"], shuffle=False,\n",
        "                             num_workers=n_workers, pin_memory=True, persistent_workers=True,\n",
        "                             prefetch_factor=3)\n",
        "    test_loader = DataLoader(test_dataset, batch_size=config[\"batch_size\"], shuffle=False,\n",
        "                             num_workers=n_workers, pin_memory=True, persistent_workers=True,\n",
        "                             prefetch_factor=3)\n",
        "    return train_loader, val_loader, test_loader\n",
        "\n",
        "# ========================\n",
        "# MODEL DEFINITION\n",
        "# ========================\n",
        "\n",
        "class RecaptureResNet(nn.Module):\n",
        "    def __init__(self, resnet_version=18):\n",
        "        super(RecaptureResNet, self).__init__()\n",
        "\n",
        "        # choose which model we want\n",
        "        resnet_models = {\n",
        "            18: models.resnet18,\n",
        "            34: models.resnet34,\n",
        "            50: models.resnet50,\n",
        "            101: models.resnet101,\n",
        "            152: models.resnet152,\n",
        "        }\n",
        "        # Load the pretrained ResNet model (default 3-channel input)\n",
        "        self.model = resnet_models[resnet_version](pretrained=True)\n",
        "\n",
        "        # Modify the fully connected layer for binary classification\n",
        "        num_features = self.model.fc.in_features\n",
        "        self.model.fc = nn.Linear(num_features, 1)\n",
        "\n",
        "    def forward(self, x):\n",
        "        return self.model(x)\n",
        "\n",
        "device = torch.device('cuda' if torch.cuda.is_available() else 'cpu')\n",
        "\n",
        "# ========================\n",
        "# TRAINING & EVALUATION FUNCTIONS\n",
        "# ========================\n",
        "\n",
        "def train_and_evaluate(config, train_dataset, val_dataset, test_dataset):\n",
        "    train_loader, val_loader, test_loader = get_dataloaders(config, train_dataset, val_dataset, test_dataset)\n",
        "    model = RecaptureResNet(resnet_version=config[\"resnet_version\"]).to(device)\n",
        "\n",
        "    # Weighted binary cross entropy: Increase weight for class 1 (due to past results)\n",
        "    pos_weight = torch.tensor([3.0]).to(device)\n",
        "    criterion = nn.BCEWithLogitsLoss(pos_weight=pos_weight)\n",
        "\n",
        "    optimizer = optim.Adam(model.parameters(), lr=config[\"learning_rate\"], weight_decay=config[\"weight_decay\"])\n",
        "    scheduler = optim.lr_scheduler.StepLR(optimizer, step_size=5, gamma=0.1) if config[\"use_scheduler\"] else None\n",
        "\n",
        "    train_losses = []\n",
        "    model.train()\n",
        "    for epoch in range(config[\"num_epochs\"]):\n",
        "        running_loss = 0.0\n",
        "        for images, labels in tqdm(train_loader, desc=f\"Epoch {epoch+1}/{config['num_epochs']}\", leave=True):\n",
        "            images, labels = images.to(device), labels.float().to(device)\n",
        "            labels = labels.view(-1, 1)\n",
        "            optimizer.zero_grad()\n",
        "            outputs = model(images)\n",
        "            loss = criterion(outputs, labels)\n",
        "            loss.backward()\n",
        "            optimizer.step()\n",
        "            running_loss += loss.item()\n",
        "        epoch_loss = running_loss / len(train_loader)\n",
        "        train_losses.append(epoch_loss)\n",
        "        if scheduler:\n",
        "            scheduler.step()\n",
        "        logging.info(f\"Epoch {epoch+1}/{config['num_epochs']} - Loss: {epoch_loss:.4f}\")\n",
        "        print(f\"Epoch {epoch+1}/{config['num_epochs']} - Loss: {epoch_loss:.4f}\")\n",
        "\n",
        "        # Evaluate on validation set at the end of each epoch\n",
        "        model.eval()\n",
        "        val_correct = 0\n",
        "        val_total = 0\n",
        "        with torch.no_grad():\n",
        "            for images, labels in tqdm(val_loader, desc=\"Evaluating on Validation\", leave=True):\n",
        "                images, labels = images.to(device), labels.to(device)\n",
        "                outputs = model(images)\n",
        "                predictions = (torch.sigmoid(outputs) > 0.5).int()\n",
        "                val_correct += (predictions.view(-1) == labels).sum().item()\n",
        "                val_total += labels.size(0)\n",
        "        val_accuracy = 100 * val_correct / val_total\n",
        "        logging.info(f\"Epoch {epoch+1}/{config['num_epochs']} - Validation Accuracy: {val_accuracy:.2f}%\")\n",
        "        print(f\"Epoch {epoch+1}/{config['num_epochs']} - Validation Accuracy: {val_accuracy:.2f}%\")\n",
        "        model.train()\n",
        "\n",
        "    # Final evaluation on test set\n",
        "    model.eval()\n",
        "    test_correct = 0\n",
        "    test_total = 0\n",
        "    with torch.no_grad():\n",
        "        for images, labels in tqdm(test_loader, desc=\"Evaluating on Test\", leave=True):\n",
        "            images, labels = images.to(device), labels.to(device)\n",
        "            outputs = model(images)\n",
        "            predictions = (torch.sigmoid(outputs) > 0.5).int()\n",
        "            test_correct += (predictions.view(-1) == labels).sum().item()\n",
        "            test_total += labels.size(0)\n",
        "    test_accuracy = 100 * test_correct / test_total\n",
        "    logging.info(f\"Test Accuracy: {test_accuracy:.2f}%\")\n",
        "    print(f\"Test Accuracy: {test_accuracy:.2f}%\")\n",
        "    return train_losses, val_accuracy, test_accuracy, model"
      ],
      "metadata": {
        "id": "EEM2BPEMlKWL"
      },
      "execution_count": 10,
      "outputs": []
    },
    {
      "cell_type": "code",
      "source": [
        "# ========================\n",
        "# SAVE & LOAD MODEL\n",
        "# ========================\n",
        "\n",
        "tuned_config = {\n",
        "    \"resnet_version\": 50,  # Options: 18, 34, 50, 101, 152\n",
        "    \"batch_size\": 128,\n",
        "    \"learning_rate\": 5e-5,\n",
        "    \"weight_decay\": 1e-4,\n",
        "    \"num_epochs\": 15,\n",
        "    \"use_scheduler\": True,\n",
        "}\n",
        "\n",
        "# Train the model with the tuned configuration using the 8:1:1 split\n",
        "_, _, _, model = train_and_evaluate(tuned_config, train_dataset, val_dataset, test_dataset)\n",
        "\n",
        "# save model\n",
        "model_path = f'recapture_resnet{tuned_config[\"resnet_version\"]}.pth'\n",
        "torch.save(model.state_dict(), model_path)\n",
        "logging.info(f\"Model saved as {model_path}\")\n",
        "print(f\"Model saved as {model_path}\")"
      ],
      "metadata": {
        "colab": {
          "base_uri": "https://localhost:8080/"
        },
        "id": "rWt8u9_YlLvo",
        "outputId": "27f26208-7e53-451c-9ef4-ac9ce65289e1"
      },
      "execution_count": 11,
      "outputs": [
        {
          "output_type": "stream",
          "name": "stderr",
          "text": [
            "Epoch 1/15: 100%|██████████| 15/15 [00:35<00:00,  2.36s/it]\n"
          ]
        },
        {
          "output_type": "stream",
          "name": "stdout",
          "text": [
            "Epoch 1/15 - Loss: 0.7220\n"
          ]
        },
        {
          "output_type": "stream",
          "name": "stderr",
          "text": [
            "Evaluating on Validation: 100%|██████████| 2/2 [00:16<00:00,  8.35s/it]\n"
          ]
        },
        {
          "output_type": "stream",
          "name": "stdout",
          "text": [
            "Epoch 1/15 - Validation Accuracy: 85.90%\n"
          ]
        },
        {
          "output_type": "stream",
          "name": "stderr",
          "text": [
            "Epoch 2/15: 100%|██████████| 15/15 [00:35<00:00,  2.35s/it]\n"
          ]
        },
        {
          "output_type": "stream",
          "name": "stdout",
          "text": [
            "Epoch 2/15 - Loss: 0.1934\n"
          ]
        },
        {
          "output_type": "stream",
          "name": "stderr",
          "text": [
            "Evaluating on Validation: 100%|██████████| 2/2 [00:16<00:00,  8.11s/it]\n"
          ]
        },
        {
          "output_type": "stream",
          "name": "stdout",
          "text": [
            "Epoch 2/15 - Validation Accuracy: 87.18%\n"
          ]
        },
        {
          "output_type": "stream",
          "name": "stderr",
          "text": [
            "Epoch 3/15: 100%|██████████| 15/15 [00:34<00:00,  2.32s/it]\n"
          ]
        },
        {
          "output_type": "stream",
          "name": "stdout",
          "text": [
            "Epoch 3/15 - Loss: 0.0833\n"
          ]
        },
        {
          "output_type": "stream",
          "name": "stderr",
          "text": [
            "Evaluating on Validation: 100%|██████████| 2/2 [00:15<00:00,  7.95s/it]\n"
          ]
        },
        {
          "output_type": "stream",
          "name": "stdout",
          "text": [
            "Epoch 3/15 - Validation Accuracy: 93.16%\n"
          ]
        },
        {
          "output_type": "stream",
          "name": "stderr",
          "text": [
            "Epoch 4/15: 100%|██████████| 15/15 [00:34<00:00,  2.31s/it]\n"
          ]
        },
        {
          "output_type": "stream",
          "name": "stdout",
          "text": [
            "Epoch 4/15 - Loss: 0.0344\n"
          ]
        },
        {
          "output_type": "stream",
          "name": "stderr",
          "text": [
            "Evaluating on Validation: 100%|██████████| 2/2 [00:16<00:00,  8.02s/it]\n"
          ]
        },
        {
          "output_type": "stream",
          "name": "stdout",
          "text": [
            "Epoch 4/15 - Validation Accuracy: 98.29%\n"
          ]
        },
        {
          "output_type": "stream",
          "name": "stderr",
          "text": [
            "Epoch 5/15: 100%|██████████| 15/15 [00:34<00:00,  2.30s/it]\n"
          ]
        },
        {
          "output_type": "stream",
          "name": "stdout",
          "text": [
            "Epoch 5/15 - Loss: 0.0140\n"
          ]
        },
        {
          "output_type": "stream",
          "name": "stderr",
          "text": [
            "Evaluating on Validation: 100%|██████████| 2/2 [00:15<00:00,  7.96s/it]\n"
          ]
        },
        {
          "output_type": "stream",
          "name": "stdout",
          "text": [
            "Epoch 5/15 - Validation Accuracy: 98.72%\n"
          ]
        },
        {
          "output_type": "stream",
          "name": "stderr",
          "text": [
            "Epoch 6/15: 100%|██████████| 15/15 [00:34<00:00,  2.32s/it]\n"
          ]
        },
        {
          "output_type": "stream",
          "name": "stdout",
          "text": [
            "Epoch 6/15 - Loss: 0.0091\n"
          ]
        },
        {
          "output_type": "stream",
          "name": "stderr",
          "text": [
            "Evaluating on Validation: 100%|██████████| 2/2 [00:16<00:00,  8.08s/it]\n"
          ]
        },
        {
          "output_type": "stream",
          "name": "stdout",
          "text": [
            "Epoch 6/15 - Validation Accuracy: 100.00%\n"
          ]
        },
        {
          "output_type": "stream",
          "name": "stderr",
          "text": [
            "Epoch 7/15: 100%|██████████| 15/15 [00:34<00:00,  2.28s/it]\n"
          ]
        },
        {
          "output_type": "stream",
          "name": "stdout",
          "text": [
            "Epoch 7/15 - Loss: 0.0063\n"
          ]
        },
        {
          "output_type": "stream",
          "name": "stderr",
          "text": [
            "Evaluating on Validation: 100%|██████████| 2/2 [00:16<00:00,  8.15s/it]\n"
          ]
        },
        {
          "output_type": "stream",
          "name": "stdout",
          "text": [
            "Epoch 7/15 - Validation Accuracy: 100.00%\n"
          ]
        },
        {
          "output_type": "stream",
          "name": "stderr",
          "text": [
            "Epoch 8/15: 100%|██████████| 15/15 [00:34<00:00,  2.29s/it]\n"
          ]
        },
        {
          "output_type": "stream",
          "name": "stdout",
          "text": [
            "Epoch 8/15 - Loss: 0.0058\n"
          ]
        },
        {
          "output_type": "stream",
          "name": "stderr",
          "text": [
            "Evaluating on Validation: 100%|██████████| 2/2 [00:15<00:00,  7.94s/it]\n"
          ]
        },
        {
          "output_type": "stream",
          "name": "stdout",
          "text": [
            "Epoch 8/15 - Validation Accuracy: 100.00%\n"
          ]
        },
        {
          "output_type": "stream",
          "name": "stderr",
          "text": [
            "Epoch 9/15: 100%|██████████| 15/15 [00:34<00:00,  2.33s/it]\n"
          ]
        },
        {
          "output_type": "stream",
          "name": "stdout",
          "text": [
            "Epoch 9/15 - Loss: 0.0061\n"
          ]
        },
        {
          "output_type": "stream",
          "name": "stderr",
          "text": [
            "Evaluating on Validation: 100%|██████████| 2/2 [00:16<00:00,  8.15s/it]\n"
          ]
        },
        {
          "output_type": "stream",
          "name": "stdout",
          "text": [
            "Epoch 9/15 - Validation Accuracy: 100.00%\n"
          ]
        },
        {
          "output_type": "stream",
          "name": "stderr",
          "text": [
            "Epoch 10/15: 100%|██████████| 15/15 [00:34<00:00,  2.31s/it]\n"
          ]
        },
        {
          "output_type": "stream",
          "name": "stdout",
          "text": [
            "Epoch 10/15 - Loss: 0.0046\n"
          ]
        },
        {
          "output_type": "stream",
          "name": "stderr",
          "text": [
            "Evaluating on Validation: 100%|██████████| 2/2 [00:16<00:00,  8.02s/it]\n"
          ]
        },
        {
          "output_type": "stream",
          "name": "stdout",
          "text": [
            "Epoch 10/15 - Validation Accuracy: 100.00%\n"
          ]
        },
        {
          "output_type": "stream",
          "name": "stderr",
          "text": [
            "Epoch 11/15: 100%|██████████| 15/15 [00:34<00:00,  2.30s/it]\n"
          ]
        },
        {
          "output_type": "stream",
          "name": "stdout",
          "text": [
            "Epoch 11/15 - Loss: 0.0058\n"
          ]
        },
        {
          "output_type": "stream",
          "name": "stderr",
          "text": [
            "Evaluating on Validation: 100%|██████████| 2/2 [00:16<00:00,  8.02s/it]\n"
          ]
        },
        {
          "output_type": "stream",
          "name": "stdout",
          "text": [
            "Epoch 11/15 - Validation Accuracy: 100.00%\n"
          ]
        },
        {
          "output_type": "stream",
          "name": "stderr",
          "text": [
            "Epoch 12/15: 100%|██████████| 15/15 [00:34<00:00,  2.30s/it]\n"
          ]
        },
        {
          "output_type": "stream",
          "name": "stdout",
          "text": [
            "Epoch 12/15 - Loss: 0.0049\n"
          ]
        },
        {
          "output_type": "stream",
          "name": "stderr",
          "text": [
            "Evaluating on Validation: 100%|██████████| 2/2 [00:15<00:00,  7.96s/it]\n"
          ]
        },
        {
          "output_type": "stream",
          "name": "stdout",
          "text": [
            "Epoch 12/15 - Validation Accuracy: 100.00%\n"
          ]
        },
        {
          "output_type": "stream",
          "name": "stderr",
          "text": [
            "Epoch 13/15: 100%|██████████| 15/15 [00:33<00:00,  2.26s/it]\n"
          ]
        },
        {
          "output_type": "stream",
          "name": "stdout",
          "text": [
            "Epoch 13/15 - Loss: 0.0058\n"
          ]
        },
        {
          "output_type": "stream",
          "name": "stderr",
          "text": [
            "Evaluating on Validation: 100%|██████████| 2/2 [00:16<00:00,  8.01s/it]\n"
          ]
        },
        {
          "output_type": "stream",
          "name": "stdout",
          "text": [
            "Epoch 13/15 - Validation Accuracy: 100.00%\n"
          ]
        },
        {
          "output_type": "stream",
          "name": "stderr",
          "text": [
            "Epoch 14/15: 100%|██████████| 15/15 [00:34<00:00,  2.32s/it]\n"
          ]
        },
        {
          "output_type": "stream",
          "name": "stdout",
          "text": [
            "Epoch 14/15 - Loss: 0.0056\n"
          ]
        },
        {
          "output_type": "stream",
          "name": "stderr",
          "text": [
            "Evaluating on Validation: 100%|██████████| 2/2 [00:16<00:00,  8.07s/it]\n"
          ]
        },
        {
          "output_type": "stream",
          "name": "stdout",
          "text": [
            "Epoch 14/15 - Validation Accuracy: 100.00%\n"
          ]
        },
        {
          "output_type": "stream",
          "name": "stderr",
          "text": [
            "Epoch 15/15: 100%|██████████| 15/15 [00:34<00:00,  2.32s/it]\n"
          ]
        },
        {
          "output_type": "stream",
          "name": "stdout",
          "text": [
            "Epoch 15/15 - Loss: 0.0043\n"
          ]
        },
        {
          "output_type": "stream",
          "name": "stderr",
          "text": [
            "Evaluating on Validation: 100%|██████████| 2/2 [00:15<00:00,  7.96s/it]\n"
          ]
        },
        {
          "output_type": "stream",
          "name": "stdout",
          "text": [
            "Epoch 15/15 - Validation Accuracy: 100.00%\n"
          ]
        },
        {
          "output_type": "stream",
          "name": "stderr",
          "text": [
            "Evaluating on Test: 100%|██████████| 2/2 [00:17<00:00,  8.53s/it]\n"
          ]
        },
        {
          "output_type": "stream",
          "name": "stdout",
          "text": [
            "Test Accuracy: 98.72%\n",
            "Model saved as recapture_resnet50.pth\n"
          ]
        }
      ]
    },
    {
      "cell_type": "code",
      "source": [
        "test_loader = DataLoader(test_dataset, batch_size=128, shuffle=False, num_workers=n_workers,\n",
        "                        pin_memory=True, persistent_workers=True, prefetch_factor=3)\n",
        "model.eval()\n",
        "\n",
        "# lists to collect ground truth labels and predictions\n",
        "all_labels = []\n",
        "all_preds = []\n",
        "\n",
        "with torch.no_grad():\n",
        "    for images, labels in test_loader:\n",
        "        images, labels = images.to(device), labels.to(device)\n",
        "        outputs = model(images)\n",
        "        predictions = (torch.sigmoid(outputs) > 0.5).int()\n",
        "        all_labels.extend(labels.cpu().numpy())\n",
        "        all_preds.extend(predictions.cpu().numpy())\n",
        "\n",
        "# Compute the confusion matrix\n",
        "cm = confusion_matrix(all_labels, all_preds)\n",
        "\n",
        "# plot\n",
        "plt.figure(figsize=(10, 8))\n",
        "disp = ConfusionMatrixDisplay(confusion_matrix=cm, display_labels=[\"Single Capture (0)\", \"Recaptured (1)\"])\n",
        "disp.plot(cmap=plt.cm.Blues)\n",
        "plt.title(\"Confusion Matrix\", fontsize=20)\n",
        "plt.xlabel(plt.gca().get_xlabel(), fontsize=16)\n",
        "plt.ylabel(plt.gca().get_ylabel(), fontsize=16)\n",
        "plt.xticks(fontsize=16)\n",
        "plt.yticks(fontsize=16)\n",
        "for text in disp.text_.ravel():\n",
        "    text.set_fontsize(25)\n",
        "\n",
        "plt.tight_layout()\n",
        "plt.show()"
      ],
      "metadata": {
        "colab": {
          "base_uri": "https://localhost:8080/",
          "height": 559
        },
        "id": "hUfW66ZTC7_o",
        "outputId": "5f9269de-4979-4d10-de27-150e36497041"
      },
      "execution_count": 22,
      "outputs": [
        {
          "output_type": "stream",
          "name": "stderr",
          "text": [
            "/usr/local/lib/python3.11/dist-packages/torch/utils/data/dataloader.py:624: UserWarning: This DataLoader will create 15 worker processes in total. Our suggested max number of worker in current system is 12, which is smaller than what this DataLoader is going to create. Please be aware that excessive worker creation might get DataLoader running slow or even freeze, lower the worker number to avoid potential slowness/freeze if necessary.\n",
            "  warnings.warn(\n"
          ]
        },
        {
          "output_type": "display_data",
          "data": {
            "text/plain": [
              "<Figure size 1000x800 with 0 Axes>"
            ]
          },
          "metadata": {}
        },
        {
          "output_type": "display_data",
          "data": {
            "text/plain": [
              "<Figure size 640x480 with 2 Axes>"
            ],
            "image/png": "[encoded data removed]"
          },
          "metadata": {}
        }
      ]
    }
  ]
}